{
 "cells": [
  {
   "cell_type": "markdown",
   "metadata": {},
   "source": [
    "# Analyzing IMDB Data in Keras"
   ]
  },
  {
   "cell_type": "code",
   "execution_count": 1,
   "metadata": {},
   "outputs": [
    {
     "name": "stderr",
     "output_type": "stream",
     "text": [
      "Using TensorFlow backend.\n"
     ]
    }
   ],
   "source": [
    "# Imports\n",
    "import numpy as np\n",
    "import keras\n",
    "from keras.datasets import imdb\n",
    "from keras.models import Sequential\n",
    "from keras.layers import Dense, Dropout, Activation\n",
    "from keras.preprocessing.text import Tokenizer\n",
    "from keras import optimizers\n",
    "from keras.backend import eval\n",
    "import matplotlib.pyplot as plt\n",
    "%matplotlib inline\n",
    "\n",
    "np.random.seed(42)"
   ]
  },
  {
   "cell_type": "markdown",
   "metadata": {},
   "source": [
    "## 1. Loading the data\n",
    "This dataset comes preloaded with Keras, so one simple command will get us training and testing data. There is a parameter for how many words we want to look at. We've set it at 1000, but feel free to experiment."
   ]
  },
  {
   "cell_type": "code",
   "execution_count": 2,
   "metadata": {},
   "outputs": [
    {
     "name": "stdout",
     "output_type": "stream",
     "text": [
      "(25000,)\n",
      "(25000,)\n"
     ]
    }
   ],
   "source": [
    "# Loading the data (it's preloaded in Keras)\n",
    "(x_train, y_train), (x_test, y_test) = imdb.load_data(num_words=1000)\n",
    "\n",
    "print(x_train.shape)\n",
    "print(x_test.shape)"
   ]
  },
  {
   "cell_type": "markdown",
   "metadata": {},
   "source": [
    "### 1. A. Combine test and training data so we can filter out noise\n",
    "Use log polarization metric from Trask's Sentiment NN"
   ]
  },
  {
   "cell_type": "code",
   "execution_count": 3,
   "metadata": {},
   "outputs": [
    {
     "name": "stdout",
     "output_type": "stream",
     "text": [
      "998\n"
     ]
    }
   ],
   "source": [
    "from collections import Counter\n",
    "\n",
    "positive_counts = Counter()\n",
    "negative_counts = Counter()\n",
    "total_counts = Counter()\n",
    "\n",
    "x_total = np.concatenate((x_train,x_test))\n",
    "y_total = np.concatenate((y_train,y_test))\n",
    "for idx, review in np.ndenumerate(x_total):\n",
    "    for word in review:\n",
    "        if y_total[idx[0]] == 0:\n",
    "            positive_counts[word] +=1\n",
    "            total_counts[word] +=1\n",
    "        elif y_total[idx[0]] == 1:\n",
    "            negative_counts[word] +=1\n",
    "            total_counts[word] +=1\n",
    "\n",
    "# Build Ratios\n",
    "min_count = 10\n",
    "pos_neg_ratios = Counter()\n",
    "\n",
    "for word, count in list(total_counts.most_common()):\n",
    "    if count > min_count:\n",
    "        ratio = positive_counts[word] / float(negative_counts[word]+1)\n",
    "        if ratio > 1:\n",
    "            pos_neg_ratios[word] = np.log(ratio)\n",
    "        else:\n",
    "            pos_neg_ratios[word] = -np.log((1 / (ratio + 0.01)))\n",
    "\n",
    "print(len(pos_neg_ratios))"
   ]
  },
  {
   "cell_type": "markdown",
   "metadata": {},
   "source": [
    "### 1. B. Distribution of Ratios\n",
    "Now, examine the distribution of ratios"
   ]
  },
  {
   "cell_type": "code",
   "execution_count": 4,
   "metadata": {},
   "outputs": [
    {
     "data": {
      "image/png": "[encoded data removed]",
      "text/plain": [
       "<matplotlib.figure.Figure at 0x173b50a7fd0>"
      ]
     },
     "metadata": {},
     "output_type": "display_data"
    }
   ],
   "source": [
    "plt.hist(list(pos_neg_ratios.values()), bins=60)\n",
    "plt.show()"
   ]
  },
  {
   "cell_type": "markdown",
   "metadata": {},
   "source": [
    "Let's cutoff the words with an absolute value of <= 1 STD (STD = 0.47)"
   ]
  },
  {
   "cell_type": "code",
   "execution_count": 5,
   "metadata": {},
   "outputs": [
    {
     "name": "stdout",
     "output_type": "stream",
     "text": [
      "Polarity Cutoff =  0.235159119556\n",
      "Sample Review before:  [1, 5, 14, 9, 6, 55, 2, 22, 13, 203, 30, 355, 21, 14, 9, 4, 236, 22, 121, 13, 2, 2, 2, 35, 779, 284, 37, 2, 4, 217, 5, 2, 6, 749, 10, 10, 2, 2, 5, 2, 2, 26, 82, 321, 36, 26, 2, 5, 2, 2, 2, 8, 358, 4, 704, 117, 122, 36, 124, 51, 62, 593, 375, 10, 10, 4, 2, 5, 732, 26, 821, 5, 2, 14, 16, 159, 4, 504, 7, 2, 2, 10, 10, 51, 9, 91, 2, 44, 14, 22, 9, 4, 192, 15, 2, 40, 14, 131, 2, 11, 938, 704, 2, 131, 2, 543, 84, 12, 9, 220, 6, 2, 5, 6, 320, 237, 4, 2, 325, 10, 10, 25, 80, 358, 14, 22, 12, 16, 814, 11, 4, 2, 2, 7, 2, 2, 63, 131, 2, 43, 92, 2, 501, 15, 8, 2, 2, 15, 2, 131, 47, 24, 77, 2, 237, 2, 2, 158, 158]\n",
      "Old maximum review length = 2494\n",
      "New maximum review length = 353\n",
      "Sample Review after:  [55, 203, 355, 779, 217, 82, 321, 36, 358, 704, 36, 62, 821, 40, 131, 938, 704, 131, 543, 320, 325, 80, 358, 131, 43, 92, 501, 131]\n"
     ]
    }
   ],
   "source": [
    "polarity_cutoff = np.std(list(pos_neg_ratios.values())) * .75\n",
    "print('Polarity Cutoff = ', polarity_cutoff)\n",
    "max_review = 0\n",
    "max_new = 0\n",
    "print('Sample Review before: ',x_total[150])\n",
    "for idx, review in np.ndenumerate(x_total):\n",
    "    max_review = max(max_review,len(review))\n",
    "    new_review = []\n",
    "    for word in review:\n",
    "        if np.abs(pos_neg_ratios[word]) > polarity_cutoff:\n",
    "            new_review.append(word)\n",
    "    x_total[idx] = new_review\n",
    "    max_new = max(max_new,len(new_review))\n",
    "print('Old maximum review length =', max_review)\n",
    "print('New maximum review length =', max_new)\n",
    "print('Sample Review after: ',x_total[150])\n"
   ]
  },
  {
   "cell_type": "code",
   "execution_count": 6,
   "metadata": {},
   "outputs": [
    {
     "name": "stdout",
     "output_type": "stream",
     "text": [
      "Maximum length= 353\n"
     ]
    }
   ],
   "source": [
    "xmax = 0\n",
    "for x in x_total:\n",
    "    xmax = max(xmax,len(x))\n",
    "print('Maximum length=',xmax)\n",
    "num_words = xmax"
   ]
  },
  {
   "cell_type": "markdown",
   "metadata": {},
   "source": [
    "### Split it up again"
   ]
  },
  {
   "cell_type": "code",
   "execution_count": 7,
   "metadata": {
    "collapsed": true
   },
   "outputs": [],
   "source": [
    "from sklearn.model_selection import train_test_split\n",
    "\n",
    "x_train, x_test, y_train, y_test = train_test_split(x_total, y_total, test_size = 0.5, random_state=42)"
   ]
  },
  {
   "cell_type": "markdown",
   "metadata": {},
   "source": [
    "## 2. Examining the data\n",
    "Notice that the data has been already pre-processed, where all the words have numbers, and the reviews come in as a vector with the words that the review contains. For example, if the word 'the' is the first one in our dictionary, and a review contains the word 'the', then there is a 1 in the corresponding vector.\n",
    "\n",
    "The output comes as a vector of 1's and 0's, where 1 is a positive sentiment for the review, and 0 is negative."
   ]
  },
  {
   "cell_type": "code",
   "execution_count": 8,
   "metadata": {},
   "outputs": [
    {
     "name": "stdout",
     "output_type": "stream",
     "text": [
      "[308, 321, 488, 20, 403, 92, 128, 100, 20, 488, 55, 406, 48, 897, 217, 988, 670, 87, 257, 257, 696, 389, 262, 922, 81, 403, 299, 452, 153, 100, 20]\n",
      "1\n"
     ]
    }
   ],
   "source": [
    "print(x_train[0])\n",
    "print(y_train[0])"
   ]
  },
  {
   "cell_type": "markdown",
   "metadata": {},
   "source": [
    "## 3. One-hot encoding the output\n",
    "Here, we'll turn the input vectors into (0,1)-vectors. For example, if the pre-processed vector contains the number 14, then in the processed vector, the 14th entry will be 1."
   ]
  },
  {
   "cell_type": "code",
   "execution_count": 9,
   "metadata": {},
   "outputs": [
    {
     "name": "stdout",
     "output_type": "stream",
     "text": [
      "[ 0.  0.  0.  0.  0.  0.  0.  0.  0.  0.  0.  0.  0.  0.  0.  0.  0.  0.\n",
      "  0.  0.  1.  0.  0.  0.  0.  0.  0.  0.  0.  0.  0.  0.  0.  0.  0.  0.\n",
      "  0.  0.  0.  0.  0.  0.  0.  0.  0.  0.  0.  0.  1.  0.  0.  0.  0.  0.\n",
      "  0.  1.  0.  0.  0.  0.  0.  0.  0.  0.  0.  0.  0.  0.  0.  0.  0.  0.\n",
      "  0.  0.  0.  0.  0.  0.  0.  0.  0.  1.  0.  0.  0.  0.  0.  1.  0.  0.\n",
      "  0.  0.  1.  0.  0.  0.  0.  0.  0.  0.  1.  0.  0.  0.  0.  0.  0.  0.\n",
      "  0.  0.  0.  0.  0.  0.  0.  0.  0.  0.  0.  0.  0.  0.  0.  0.  0.  0.\n",
      "  0.  0.  1.  0.  0.  0.  0.  0.  0.  0.  0.  0.  0.  0.  0.  0.  0.  0.\n",
      "  0.  0.  0.  0.  0.  0.  0.  0.  0.  1.  0.  0.  0.  0.  0.  0.  0.  0.\n",
      "  0.  0.  0.  0.  0.  0.  0.  0.  0.  0.  0.  0.  0.  0.  0.  0.  0.  0.\n",
      "  0.  0.  0.  0.  0.  0.  0.  0.  0.  0.  0.  0.  0.  0.  0.  0.  0.  0.\n",
      "  0.  0.  0.  0.  0.  0.  0.  0.  0.  0.  0.  0.  0.  0.  0.  0.  0.  0.\n",
      "  0.  1.  0.  0.  0.  0.  0.  0.  0.  0.  0.  0.  0.  0.  0.  0.  0.  0.\n",
      "  0.  0.  0.  0.  0.  0.  0.  0.  0.  0.  0.  0.  0.  0.  0.  0.  0.  0.\n",
      "  0.  0.  0.  0.  0.  1.  0.  0.  0.  0.  1.  0.  0.  0.  0.  0.  0.  0.\n",
      "  0.  0.  0.  0.  0.  0.  0.  0.  0.  0.  0.  0.  0.  0.  0.  0.  0.  0.\n",
      "  0.  0.  0.  0.  0.  0.  0.  0.  0.  0.  0.  1.  0.  0.  0.  0.  0.  0.\n",
      "  0.  0.  1.  0.  0.  0.  0.  0.  0.  0.  0.  0.  0.  0.  0.  1.  0.  0.\n",
      "  0.  0.  0.  0.  0.  0.  0.  0.  0.  0.  0.  0.  0.  0.  0.  0.  0.  0.\n",
      "  0.  0.  0.  0.  0.  0.  0.  0.  0.  0.  0.]\n"
     ]
    }
   ],
   "source": [
    "# One-hot encoding the output into vector mode, each of length 1000\n",
    "tokenizer = Tokenizer(num_words=num_words)\n",
    "x_train = tokenizer.sequences_to_matrix(x_train, mode='binary')\n",
    "x_test = tokenizer.sequences_to_matrix(x_test, mode='binary')\n",
    "print(x_train[0])"
   ]
  },
  {
   "cell_type": "markdown",
   "metadata": {},
   "source": [
    "And we'll also one-hot encode the output."
   ]
  },
  {
   "cell_type": "code",
   "execution_count": 10,
   "metadata": {},
   "outputs": [
    {
     "name": "stdout",
     "output_type": "stream",
     "text": [
      "(25000, 353) (25000, 2)\n",
      "(25000, 353) (25000, 2)\n"
     ]
    }
   ],
   "source": [
    "# One-hot encoding the output\n",
    "num_classes = 2\n",
    "y_train = keras.utils.to_categorical(y_train, num_classes)\n",
    "y_test = keras.utils.to_categorical(y_test, num_classes)\n",
    "print(x_train.shape,y_train.shape)\n",
    "print(x_test.shape,y_test.shape)"
   ]
  },
  {
   "cell_type": "markdown",
   "metadata": {},
   "source": [
    "## 4. Building the  model architecture\n",
    "Build a model here using sequential. Feel free to experiment with different layers and sizes! Also, experiment adding dropout to reduce overfitting."
   ]
  },
  {
   "cell_type": "code",
   "execution_count": 11,
   "metadata": {},
   "outputs": [
    {
     "name": "stdout",
     "output_type": "stream",
     "text": [
      "353\n",
      "(25000, 353)\n"
     ]
    }
   ],
   "source": [
    "print(num_words)\n",
    "print(x_train.shape)"
   ]
  },
  {
   "cell_type": "code",
   "execution_count": 12,
   "metadata": {},
   "outputs": [
    {
     "name": "stdout",
     "output_type": "stream",
     "text": [
      "_________________________________________________________________\n",
      "Layer (type)                 Output Shape              Param #   \n",
      "=================================================================\n",
      "dense_1 (Dense)              (None, 353)               124962    \n",
      "_________________________________________________________________\n",
      "dense_2 (Dense)              (None, 353)               124962    \n",
      "_________________________________________________________________\n",
      "dense_3 (Dense)              (None, 2)                 708       \n",
      "=================================================================\n",
      "Total params: 250,632\n",
      "Trainable params: 250,632\n",
      "Non-trainable params: 0\n",
      "_________________________________________________________________\n"
     ]
    }
   ],
   "source": [
    "# TODO: Build the model architecture\n",
    "# Building the model\n",
    "model = Sequential()\n",
    "model.add(Dense(int(num_words), activation='tanh', input_dim=num_words))\n",
    "#model.add(Dropout(.2))\n",
    "model.add(Dense(num_words, activation='tanh'))\n",
    "#model.add(Dropout(.2))\n",
    "#model.add(Dense(num_words, activation='relu'))\n",
    "#model.add(Dropout(.1))\n",
    "model.add(Dense(num_classes, activation='softmax'))\n",
    "\n",
    "# TODO: Compile the model using a loss function and an optimizer.\n",
    "#sgd = optimizers.SGD(lr=1e-5, decay=1e-6, momentum=0.9, nesterov=True)\n",
    "opt = optimizers.RMSprop(lr=1e-4)\n",
    "#model.compile(loss = 'categorical_crossentropy', optimizer='adam', metrics=['accuracy'])\n",
    "model.compile(loss = 'categorical_crossentropy', optimizer=opt, metrics=['accuracy'])\n",
    "model.summary()"
   ]
  },
  {
   "cell_type": "markdown",
   "metadata": {},
   "source": [
    "## 5. Training the model\n",
    "Run the model here. Experiment with different batch_size, and number of epochs!"
   ]
  },
  {
   "cell_type": "code",
   "execution_count": 13,
   "metadata": {
    "scrolled": true
   },
   "outputs": [
    {
     "name": "stdout",
     "output_type": "stream",
     "text": [
      "Epoch 1/150\n",
      "25000/25000 [==============================] - 5s - loss: 0.4845 - acc: 0.7656     \n",
      "Epoch 2/150\n",
      "25000/25000 [==============================] - 3s - loss: 0.4572 - acc: 0.7829     \n",
      "Epoch 3/150\n",
      "25000/25000 [==============================] - 3s - loss: 0.4570 - acc: 0.7852     \n",
      "Epoch 4/150\n",
      "25000/25000 [==============================] - 3s - loss: 0.4563 - acc: 0.7858     \n",
      "Epoch 5/150\n",
      "25000/25000 [==============================] - 3s - loss: 0.4556 - acc: 0.7859     \n",
      "Epoch 6/150\n",
      "25000/25000 [==============================] - 3s - loss: 0.4550 - acc: 0.7865     \n",
      "Epoch 7/150\n",
      "25000/25000 [==============================] - 3s - loss: 0.4542 - acc: 0.7868     \n",
      "Epoch 8/150\n",
      "25000/25000 [==============================] - 3s - loss: 0.4537 - acc: 0.7865     \n",
      "Epoch 9/150\n",
      "25000/25000 [==============================] - 3s - loss: 0.4528 - acc: 0.7872     \n",
      "Epoch 10/150\n",
      "25000/25000 [==============================] - 3s - loss: 0.4521 - acc: 0.7880     \n",
      "Epoch 11/150\n",
      "25000/25000 [==============================] - 3s - loss: 0.4512 - acc: 0.7868     \n",
      "Epoch 12/150\n",
      "25000/25000 [==============================] - 3s - loss: 0.4502 - acc: 0.7884     \n",
      "Epoch 13/150\n",
      "25000/25000 [==============================] - 3s - loss: 0.4493 - acc: 0.7877     \n",
      "Epoch 14/150\n",
      "25000/25000 [==============================] - 3s - loss: 0.4486 - acc: 0.7896     \n",
      "Epoch 15/150\n",
      "25000/25000 [==============================] - 3s - loss: 0.4473 - acc: 0.7883     \n",
      "Epoch 16/150\n",
      "25000/25000 [==============================] - 3s - loss: 0.4470 - acc: 0.7895     \n",
      "Epoch 17/150\n",
      "25000/25000 [==============================] - 3s - loss: 0.4456 - acc: 0.7904     \n",
      "Epoch 18/150\n",
      "25000/25000 [==============================] - 3s - loss: 0.4449 - acc: 0.7916     \n",
      "Epoch 19/150\n",
      "25000/25000 [==============================] - 3s - loss: 0.4439 - acc: 0.7922     \n",
      "Epoch 20/150\n",
      "25000/25000 [==============================] - 3s - loss: 0.4432 - acc: 0.7918     \n",
      "Epoch 21/150\n",
      "25000/25000 [==============================] - 3s - loss: 0.4427 - acc: 0.7920     \n",
      "Epoch 22/150\n",
      "25000/25000 [==============================] - 3s - loss: 0.4414 - acc: 0.7925     \n",
      "Epoch 23/150\n",
      "25000/25000 [==============================] - 3s - loss: 0.4405 - acc: 0.7932     \n",
      "Epoch 24/150\n",
      "25000/25000 [==============================] - 3s - loss: 0.4396 - acc: 0.7944     \n",
      "Epoch 25/150\n",
      "25000/25000 [==============================] - 3s - loss: 0.4382 - acc: 0.7944     \n",
      "Epoch 26/150\n",
      "25000/25000 [==============================] - 3s - loss: 0.4369 - acc: 0.7957     \n",
      "Epoch 27/150\n",
      "25000/25000 [==============================] - 3s - loss: 0.4364 - acc: 0.7963     \n",
      "Epoch 28/150\n",
      "25000/25000 [==============================] - 3s - loss: 0.4351 - acc: 0.7956     \n",
      "Epoch 29/150\n",
      "25000/25000 [==============================] - 3s - loss: 0.4338 - acc: 0.7974     \n",
      "Epoch 30/150\n",
      "25000/25000 [==============================] - 3s - loss: 0.4319 - acc: 0.7972     \n",
      "Epoch 31/150\n",
      "25000/25000 [==============================] - 3s - loss: 0.4306 - acc: 0.8000     \n",
      "Epoch 32/150\n",
      "25000/25000 [==============================] - 3s - loss: 0.4291 - acc: 0.8004     \n",
      "Epoch 33/150\n",
      "25000/25000 [==============================] - 3s - loss: 0.4276 - acc: 0.7998     \n",
      "Epoch 34/150\n",
      "25000/25000 [==============================] - 3s - loss: 0.4259 - acc: 0.8020     \n",
      "Epoch 35/150\n",
      "25000/25000 [==============================] - 3s - loss: 0.4247 - acc: 0.8020     \n",
      "Epoch 36/150\n",
      "25000/25000 [==============================] - 3s - loss: 0.4230 - acc: 0.8038     \n",
      "Epoch 37/150\n",
      "25000/25000 [==============================] - 3s - loss: 0.4210 - acc: 0.8045     \n",
      "Epoch 38/150\n",
      "25000/25000 [==============================] - 3s - loss: 0.4194 - acc: 0.8066     \n",
      "Epoch 39/150\n",
      "25000/25000 [==============================] - 3s - loss: 0.4178 - acc: 0.8055     \n",
      "Epoch 40/150\n",
      "25000/25000 [==============================] - 3s - loss: 0.4159 - acc: 0.8076     \n",
      "Epoch 41/150\n",
      "25000/25000 [==============================] - 3s - loss: 0.4142 - acc: 0.8099     \n",
      "Epoch 42/150\n",
      "25000/25000 [==============================] - 3s - loss: 0.4121 - acc: 0.8114     \n",
      "Epoch 43/150\n",
      "25000/25000 [==============================] - 3s - loss: 0.4107 - acc: 0.8096     \n",
      "Epoch 44/150\n",
      "25000/25000 [==============================] - 3s - loss: 0.4086 - acc: 0.8124     \n",
      "Epoch 45/150\n",
      "25000/25000 [==============================] - 3s - loss: 0.4067 - acc: 0.8137     \n",
      "Epoch 46/150\n",
      "25000/25000 [==============================] - 3s - loss: 0.4048 - acc: 0.8131     \n",
      "Epoch 47/150\n",
      "25000/25000 [==============================] - 3s - loss: 0.4031 - acc: 0.8154     \n",
      "Epoch 48/150\n",
      "25000/25000 [==============================] - 3s - loss: 0.4009 - acc: 0.8171     \n",
      "Epoch 49/150\n",
      "25000/25000 [==============================] - 3s - loss: 0.3992 - acc: 0.8165     \n",
      "Epoch 50/150\n",
      "25000/25000 [==============================] - 3s - loss: 0.3971 - acc: 0.8180     \n",
      "Epoch 51/150\n",
      "25000/25000 [==============================] - 3s - loss: 0.3954 - acc: 0.8196     \n",
      "Epoch 52/150\n",
      "25000/25000 [==============================] - 3s - loss: 0.3933 - acc: 0.8215     \n",
      "Epoch 53/150\n",
      "25000/25000 [==============================] - 3s - loss: 0.3913 - acc: 0.8223     \n",
      "Epoch 54/150\n",
      "25000/25000 [==============================] - 3s - loss: 0.3893 - acc: 0.8243     \n",
      "Epoch 55/150\n",
      "25000/25000 [==============================] - 3s - loss: 0.3874 - acc: 0.8236     \n",
      "Epoch 56/150\n",
      "25000/25000 [==============================] - 3s - loss: 0.3853 - acc: 0.8272     \n",
      "Epoch 57/150\n",
      "25000/25000 [==============================] - 3s - loss: 0.3833 - acc: 0.8262     \n",
      "Epoch 58/150\n",
      "25000/25000 [==============================] - 3s - loss: 0.3811 - acc: 0.8278     \n",
      "Epoch 59/150\n",
      "25000/25000 [==============================] - 3s - loss: 0.3788 - acc: 0.8284     \n",
      "Epoch 60/150\n",
      "25000/25000 [==============================] - 3s - loss: 0.3768 - acc: 0.8310     \n",
      "Epoch 61/150\n",
      "25000/25000 [==============================] - 3s - loss: 0.3739 - acc: 0.8315     \n",
      "Epoch 62/150\n",
      "25000/25000 [==============================] - 3s - loss: 0.3723 - acc: 0.8314     \n",
      "Epoch 63/150\n",
      "25000/25000 [==============================] - 3s - loss: 0.3697 - acc: 0.8323     \n",
      "Epoch 64/150\n",
      "25000/25000 [==============================] - 4s - loss: 0.3676 - acc: 0.8350     \n",
      "Epoch 65/150\n",
      "25000/25000 [==============================] - 3s - loss: 0.3653 - acc: 0.8369     \n",
      "Epoch 66/150\n",
      "25000/25000 [==============================] - 3s - loss: 0.3626 - acc: 0.8372     \n",
      "Epoch 67/150\n",
      "25000/25000 [==============================] - 3s - loss: 0.3603 - acc: 0.8384     \n",
      "Epoch 68/150\n",
      "25000/25000 [==============================] - 3s - loss: 0.3577 - acc: 0.8429     \n",
      "Epoch 69/150\n",
      "25000/25000 [==============================] - 3s - loss: 0.3548 - acc: 0.8417     \n",
      "Epoch 70/150\n",
      "25000/25000 [==============================] - 3s - loss: 0.3527 - acc: 0.8429     \n",
      "Epoch 71/150\n",
      "25000/25000 [==============================] - 3s - loss: 0.3502 - acc: 0.8457     \n",
      "Epoch 72/150\n",
      "25000/25000 [==============================] - 3s - loss: 0.3471 - acc: 0.8466     \n",
      "Epoch 73/150\n",
      "25000/25000 [==============================] - 3s - loss: 0.3445 - acc: 0.8479     \n",
      "Epoch 74/150\n",
      "25000/25000 [==============================] - 3s - loss: 0.3419 - acc: 0.8495     \n",
      "Epoch 75/150\n",
      "25000/25000 [==============================] - 3s - loss: 0.3387 - acc: 0.8521     \n",
      "Epoch 76/150\n",
      "25000/25000 [==============================] - 3s - loss: 0.3363 - acc: 0.8526     \n",
      "Epoch 77/150\n",
      "25000/25000 [==============================] - 3s - loss: 0.3334 - acc: 0.8530     \n",
      "Epoch 78/150\n",
      "25000/25000 [==============================] - 3s - loss: 0.3300 - acc: 0.8562     \n",
      "Epoch 79/150\n",
      "25000/25000 [==============================] - 3s - loss: 0.3276 - acc: 0.8589     \n",
      "Epoch 80/150\n",
      "25000/25000 [==============================] - 3s - loss: 0.3239 - acc: 0.8599     \n",
      "Epoch 81/150\n",
      "25000/25000 [==============================] - 3s - loss: 0.3215 - acc: 0.8609     \n",
      "Epoch 82/150\n",
      "25000/25000 [==============================] - 3s - loss: 0.3182 - acc: 0.8627     \n",
      "Epoch 83/150\n",
      "25000/25000 [==============================] - 3s - loss: 0.3148 - acc: 0.8673     \n",
      "Epoch 84/150\n",
      "25000/25000 [==============================] - 3s - loss: 0.3118 - acc: 0.8667     \n",
      "Epoch 85/150\n",
      "25000/25000 [==============================] - 3s - loss: 0.3089 - acc: 0.8692     \n",
      "Epoch 86/150\n",
      "25000/25000 [==============================] - 3s - loss: 0.3059 - acc: 0.8712     \n",
      "Epoch 87/150\n",
      "25000/25000 [==============================] - 3s - loss: 0.3024 - acc: 0.8725     \n",
      "Epoch 88/150\n",
      "25000/25000 [==============================] - 3s - loss: 0.2993 - acc: 0.8730     \n",
      "Epoch 89/150\n",
      "25000/25000 [==============================] - 3s - loss: 0.2959 - acc: 0.8768     \n",
      "Epoch 90/150\n",
      "25000/25000 [==============================] - 3s - loss: 0.2927 - acc: 0.8786     \n",
      "Epoch 91/150\n",
      "25000/25000 [==============================] - 3s - loss: 0.2890 - acc: 0.8812     \n",
      "Epoch 92/150\n",
      "25000/25000 [==============================] - 3s - loss: 0.2858 - acc: 0.8843     \n",
      "Epoch 93/150\n",
      "25000/25000 [==============================] - 3s - loss: 0.2819 - acc: 0.8838     \n",
      "Epoch 94/150\n",
      "25000/25000 [==============================] - 3s - loss: 0.2786 - acc: 0.8873     \n",
      "Epoch 95/150\n",
      "25000/25000 [==============================] - 3s - loss: 0.2752 - acc: 0.8895     \n",
      "Epoch 96/150\n",
      "25000/25000 [==============================] - 3s - loss: 0.2711 - acc: 0.8922     \n",
      "Epoch 97/150\n",
      "25000/25000 [==============================] - 3s - loss: 0.2678 - acc: 0.8929     \n",
      "Epoch 98/150\n",
      "25000/25000 [==============================] - 3s - loss: 0.2646 - acc: 0.8962     \n",
      "Epoch 99/150\n",
      "25000/25000 [==============================] - 3s - loss: 0.2610 - acc: 0.8976     \n",
      "Epoch 100/150\n",
      "25000/25000 [==============================] - 3s - loss: 0.2574 - acc: 0.8996     \n",
      "Epoch 101/150\n",
      "25000/25000 [==============================] - 3s - loss: 0.2539 - acc: 0.9014     \n",
      "Epoch 102/150\n",
      "25000/25000 [==============================] - 3s - loss: 0.2496 - acc: 0.9042     \n",
      "Epoch 103/150\n",
      "25000/25000 [==============================] - 3s - loss: 0.2464 - acc: 0.9062     \n",
      "Epoch 104/150\n",
      "25000/25000 [==============================] - 25s - loss: 0.2425 - acc: 0.9084    \n",
      "Epoch 105/150\n",
      "25000/25000 [==============================] - 3s - loss: 0.2383 - acc: 0.9110     \n",
      "Epoch 106/150\n",
      "25000/25000 [==============================] - 3s - loss: 0.2349 - acc: 0.9120     \n",
      "Epoch 107/150\n",
      "25000/25000 [==============================] - 4s - loss: 0.2308 - acc: 0.9142     \n",
      "Epoch 108/150\n",
      "25000/25000 [==============================] - 4s - loss: 0.2267 - acc: 0.9171     \n",
      "Epoch 109/150\n",
      "25000/25000 [==============================] - 4s - loss: 0.2234 - acc: 0.9188     \n",
      "Epoch 110/150\n",
      "25000/25000 [==============================] - 3s - loss: 0.2191 - acc: 0.9208     \n",
      "Epoch 111/150\n",
      "25000/25000 [==============================] - 3s - loss: 0.2156 - acc: 0.9236     \n",
      "Epoch 112/150\n",
      "25000/25000 [==============================] - 4s - loss: 0.2115 - acc: 0.9260     \n",
      "Epoch 113/150\n",
      "25000/25000 [==============================] - 4s - loss: 0.2076 - acc: 0.9282     \n",
      "Epoch 114/150\n",
      "25000/25000 [==============================] - 4s - loss: 0.2035 - acc: 0.9299     \n",
      "Epoch 115/150\n",
      "25000/25000 [==============================] - 3s - loss: 0.1995 - acc: 0.9327     \n",
      "Epoch 116/150\n",
      "25000/25000 [==============================] - 4s - loss: 0.1959 - acc: 0.9352     \n",
      "Epoch 117/150\n",
      "25000/25000 [==============================] - 3s - loss: 0.1915 - acc: 0.9360     \n",
      "Epoch 118/150\n",
      "25000/25000 [==============================] - 3s - loss: 0.1877 - acc: 0.9381     \n",
      "Epoch 119/150\n",
      "25000/25000 [==============================] - 3s - loss: 0.1840 - acc: 0.9394     \n",
      "Epoch 120/150\n",
      "25000/25000 [==============================] - 3s - loss: 0.1797 - acc: 0.9430     \n",
      "Epoch 121/150\n",
      "25000/25000 [==============================] - 3s - loss: 0.1761 - acc: 0.9442     \n",
      "Epoch 122/150\n",
      "25000/25000 [==============================] - 3s - loss: 0.1723 - acc: 0.9455     \n",
      "Epoch 123/150\n",
      "25000/25000 [==============================] - 3s - loss: 0.1684 - acc: 0.9471     \n",
      "Epoch 124/150\n",
      "25000/25000 [==============================] - 3s - loss: 0.1642 - acc: 0.9502     \n",
      "Epoch 125/150\n",
      "25000/25000 [==============================] - 3s - loss: 0.1603 - acc: 0.9522     \n",
      "Epoch 126/150\n",
      "25000/25000 [==============================] - 3s - loss: 0.1570 - acc: 0.9532     \n",
      "Epoch 127/150\n",
      "25000/25000 [==============================] - 3s - loss: 0.1529 - acc: 0.9556     \n",
      "Epoch 128/150\n",
      "25000/25000 [==============================] - 3s - loss: 0.1489 - acc: 0.9586     \n",
      "Epoch 129/150\n",
      "25000/25000 [==============================] - 3s - loss: 0.1449 - acc: 0.9595     \n",
      "Epoch 130/150\n",
      "25000/25000 [==============================] - 3s - loss: 0.1419 - acc: 0.9614     \n",
      "Epoch 131/150\n",
      "25000/25000 [==============================] - 3s - loss: 0.1380 - acc: 0.9626     \n",
      "Epoch 132/150\n",
      "25000/25000 [==============================] - 3s - loss: 0.1344 - acc: 0.9638     \n",
      "Epoch 133/150\n",
      "25000/25000 [==============================] - 3s - loss: 0.1306 - acc: 0.9657     \n",
      "Epoch 134/150\n",
      "25000/25000 [==============================] - 3s - loss: 0.1272 - acc: 0.9672     \n",
      "Epoch 135/150\n",
      "25000/25000 [==============================] - 3s - loss: 0.1235 - acc: 0.9692     \n",
      "Epoch 136/150\n",
      "25000/25000 [==============================] - 3s - loss: 0.1200 - acc: 0.9708     \n",
      "Epoch 137/150\n",
      "25000/25000 [==============================] - 3s - loss: 0.1161 - acc: 0.9720     \n",
      "Epoch 138/150\n",
      "25000/25000 [==============================] - 3s - loss: 0.1133 - acc: 0.9727     \n",
      "Epoch 139/150\n",
      "25000/25000 [==============================] - 3s - loss: 0.1098 - acc: 0.9741     \n",
      "Epoch 140/150\n",
      "25000/25000 [==============================] - 3s - loss: 0.1061 - acc: 0.9762     \n",
      "Epoch 141/150\n",
      "25000/25000 [==============================] - 3s - loss: 0.1029 - acc: 0.9772     \n",
      "Epoch 142/150\n",
      "25000/25000 [==============================] - 3s - loss: 0.0996 - acc: 0.9782     \n",
      "Epoch 143/150\n",
      "25000/25000 [==============================] - 3s - loss: 0.0964 - acc: 0.9793     \n",
      "Epoch 144/150\n",
      "25000/25000 [==============================] - 3s - loss: 0.0932 - acc: 0.9803     \n",
      "Epoch 145/150\n",
      "25000/25000 [==============================] - 3s - loss: 0.0902 - acc: 0.9819     \n",
      "Epoch 146/150\n",
      "25000/25000 [==============================] - 3s - loss: 0.0873 - acc: 0.9830     \n",
      "Epoch 147/150\n",
      "25000/25000 [==============================] - 3s - loss: 0.0845 - acc: 0.9837     \n",
      "Epoch 148/150\n",
      "25000/25000 [==============================] - 3s - loss: 0.0815 - acc: 0.9846     \n",
      "Epoch 149/150\n",
      "25000/25000 [==============================] - 3s - loss: 0.0782 - acc: 0.9859     \n",
      "Epoch 150/150\n",
      "25000/25000 [==============================] - 3s - loss: 0.0757 - acc: 0.9866     \n"
     ]
    }
   ],
   "source": [
    "# TODO: Run the model. Feel free to experiment with different batch sizes and number of epochs.\n",
    "epochs = 150\n",
    "batch_size = 50\n",
    "\n",
    "hist = model.fit(x_train, y_train, epochs=epochs, batch_size=batch_size, verbose=1)"
   ]
  },
  {
   "cell_type": "markdown",
   "metadata": {},
   "source": [
    "Plot Historical Loss"
   ]
  },
  {
   "cell_type": "code",
   "execution_count": 14,
   "metadata": {},
   "outputs": [
    {
     "data": {
      "image/png": "[encoded data removed]",
      "text/plain": [
       "<matplotlib.figure.Figure at 0x173b74a2828>"
      ]
     },
     "metadata": {},
     "output_type": "display_data"
    }
   ],
   "source": [
    "hist.history\n",
    "x = np.arange(epochs)\n",
    "yloss = hist.history['loss']\n",
    "yacc = hist.history['acc']\n",
    "\n",
    "plt.plot(x,yloss)\n",
    "plt.plot(x,yacc)\n",
    "plt.xlabel('Epochs')\n",
    "plt.ylabel('Accuracy/Loss')\n",
    "plt.show()"
   ]
  },
  {
   "cell_type": "markdown",
   "metadata": {},
   "source": [
    "## 6. Evaluating the model\n",
    "This will give you the accuracy of the model, as evaluated on the testing set. Can you get something over 85%?"
   ]
  },
  {
   "cell_type": "code",
   "execution_count": 15,
   "metadata": {},
   "outputs": [
    {
     "name": "stdout",
     "output_type": "stream",
     "text": [
      "Train Accuracy:  0.98804\n",
      "Test Accuracy:  0.746\n",
      "Epochs: 150  Batch Size: 50  Learning Rate: 0.0001\n"
     ]
    }
   ],
   "source": [
    "score = model.evaluate(x_train, y_train, verbose=0)\n",
    "print(\"Train Accuracy: \", score[1])\n",
    "score = model.evaluate(x_test, y_test, verbose=0)\n",
    "print(\"Test Accuracy: \", score[1])\n",
    "print(\"Epochs:\", epochs, \" Batch Size:\",batch_size, \" Learning Rate:\", eval(model.optimizer.lr))"
   ]
  },
  {
   "cell_type": "code",
   "execution_count": 16,
   "metadata": {},
   "outputs": [
    {
     "data": {
      "text/plain": [
       "[0.80473467105865482, 0.746]"
      ]
     },
     "execution_count": 16,
     "metadata": {},
     "output_type": "execute_result"
    }
   ],
   "source": [
    "score"
   ]
  },
  {
   "cell_type": "markdown",
   "metadata": {},
   "source": [
    "## Solution"
   ]
  },
  {
   "cell_type": "markdown",
   "metadata": {},
   "source": [
    "# Building the model architecture with one layer of length 100\n",
    "smodel = Sequential()\n",
    "smodel.add(Dense(512, activation='relu', input_dim=num_words))\n",
    "smodel.add(Dropout(0.3))\n",
    "smodel.add(Dense(num_classes, activation='softmax'))\n",
    "smodel.summary()\n",
    "\n",
    "# Compiling the model using categorical_crossentropy loss, and rmsprop optimizer.\n",
    "smodel.compile(loss='categorical_crossentropy',\n",
    "              optimizer='rmsprop',\n",
    "              metrics=['accuracy'])\n",
    "\n",
    "# Running and evaluating the model\n",
    "hist = smodel.fit(x_train, y_train,\n",
    "          batch_size=32,\n",
    "          epochs=10,\n",
    "          validation_data=(x_test, y_test), \n",
    "          verbose=2)"
   ]
  },
  {
   "cell_type": "markdown",
   "metadata": {},
   "source": [
    "sscore = smodel.evaluate(x_train, y_train, verbose=0)\n",
    "print(\"Train Accuracy: \", sscore[1])\n",
    "sscore = smodel.evaluate(x_test, y_test, verbose=0)\n",
    "print(\"Test Accuracy: \", sscore[1])"
   ]
  }
 ],
 "metadata": {
  "anaconda-cloud": {},
  "kernelspec": {
   "display_name": "Python 3",
   "language": "python",
   "name": "python3"
  },
  "language_info": {
   "codemirror_mode": {
    "name": "ipython",
    "version": 3
   },
   "file_extension": ".py",
   "mimetype": "text/x-python",
   "name": "python",
   "nbconvert_exporter": "python",
   "pygments_lexer": "ipython3",
   "version": "3.6.3"
  }
 },
 "nbformat": 4,
 "nbformat_minor": 2
}
